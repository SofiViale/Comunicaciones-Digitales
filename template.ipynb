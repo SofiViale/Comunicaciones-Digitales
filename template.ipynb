{
 "cells": [
  {
   "cell_type": "code",
   "execution_count": null,
   "id": "3bd4c986",
   "metadata": {},
   "outputs": [],
   "source": [
    "#------------------- Change working directory to project root -------------------#\n",
    "from pathlib import Path, os\n",
    "\n",
    "cur = Path().resolve()\n",
    "while not (cur / \"src\").is_dir():\n",
    "    if cur == cur.parent: raise RuntimeError(\"No 'src' dir\")\n",
    "    cur = cur.parent\n",
    "\n",
    "os.chdir(cur)\n",
    "print(f\"[INFO] Changed working directory to project root: {cur}\")"
   ]
  },
  {
   "cell_type": "code",
   "execution_count": null,
   "id": "236b6e91",
   "metadata": {},
   "outputs": [],
   "source": [
    "# -------------------------------------- External Libraries --------------------------------------\n",
    "import numpy as np\n",
    "import matplotlib.pyplot as plt\n",
    "# ----------------------------------------- Local Imports ----------------------------------------\n",
    "from src.core                  import LoRaPhyParams, LoRaFrameParams\n",
    "from src.codec                 import LoRaCodec\n",
    "from src.mod                   import LoRaModulator, plot_frame\n",
    "from src.demod                 import LoRaDemodulator, plot_demodulation\n",
    "from src.sync                  import DechirpBasedSynchronizer\n",
    "from src.sync                  import plot_synchronization\n",
    "\n",
    "import src.core.sdr_utils      as sdr_utils\n",
    "import src.core.snr_utils      as snr_utils\n",
    "import src.core.vpn_utils      as vpn_utils\n",
    "import src.core.misc_utils     as misc_utils\n"
   ]
  },
  {
   "cell_type": "code",
   "execution_count": null,
   "id": "3a867802",
   "metadata": {},
   "outputs": [],
   "source": []
  }
 ],
 "metadata": {
  "language_info": {
   "name": "python"
  }
 },
 "nbformat": 4,
 "nbformat_minor": 5
}
