{
 "cells": [
  {
   "cell_type": "code",
   "execution_count": 13,
   "id": "86ad7792",
   "metadata": {},
   "outputs": [
    {
     "name": "stdout",
     "output_type": "stream",
     "text": [
      "[INFO] Changed working directory to project root: C:\\Users\\stefa\\OneDrive\\Documentos\\LoRaPriv\n"
     ]
    }
   ],
   "source": [
    "#------------------- Change working directory to project root -------------------#\n",
    "from pathlib import Path\n",
    "import os\n",
    "\n",
    "cur = Path().resolve()\n",
    "while not (cur / \"src\").is_dir():\n",
    "    if cur == cur.parent: raise RuntimeError(\"No 'src' dir\")\n",
    "    cur = cur.parent\n",
    "\n",
    "os.chdir(cur)\n",
    "print(f\"[INFO] Changed working directory to project root: {cur}\")"
   ]
  },
  {
   "cell_type": "code",
   "execution_count": 14,
   "id": "68765b64",
   "metadata": {},
   "outputs": [
    {
     "ename": "TypeError",
     "evalue": "argument of type 'NoneType' is not iterable",
     "output_type": "error",
     "traceback": [
      "\u001b[31m---------------------------------------------------------------------------\u001b[39m",
      "\u001b[31mTypeError\u001b[39m                                 Traceback (most recent call last)",
      "\u001b[36mCell\u001b[39m\u001b[36m \u001b[39m\u001b[32mIn[14]\u001b[39m\u001b[32m, line 7\u001b[39m\n\u001b[32m      5\u001b[39m \u001b[38;5;28;01mimport\u001b[39;00m\u001b[38;5;250m \u001b[39m\u001b[34;01mimportlib\u001b[39;00m\u001b[34;01m.\u001b[39;00m\u001b[34;01mutil\u001b[39;00m\n\u001b[32m      6\u001b[39m \u001b[38;5;66;03m# ----------------------------------------- Local Imports ----------------------------------------\u001b[39;00m\n\u001b[32m----> \u001b[39m\u001b[32m7\u001b[39m \u001b[38;5;28;01mfrom\u001b[39;00m\u001b[38;5;250m \u001b[39m\u001b[34;01msrc\u001b[39;00m\u001b[34;01m.\u001b[39;00m\u001b[34;01mcore\u001b[39;00m\u001b[38;5;250m                  \u001b[39m\u001b[38;5;28;01mimport\u001b[39;00m LoRaPhyParams, LoRaFrameParams\n\u001b[32m      8\u001b[39m \u001b[38;5;28;01mfrom\u001b[39;00m\u001b[38;5;250m \u001b[39m\u001b[34;01msrc\u001b[39;00m\u001b[34;01m.\u001b[39;00m\u001b[34;01mcodec\u001b[39;00m\u001b[38;5;250m                 \u001b[39m\u001b[38;5;28;01mimport\u001b[39;00m LoRaCodec\n\u001b[32m      9\u001b[39m \u001b[38;5;28;01mfrom\u001b[39;00m\u001b[38;5;250m \u001b[39m\u001b[34;01msrc\u001b[39;00m\u001b[34;01m.\u001b[39;00m\u001b[34;01mmod\u001b[39;00m\u001b[38;5;250m                   \u001b[39m\u001b[38;5;28;01mimport\u001b[39;00m LoRaModulator, plot_frame\n",
      "\u001b[36mFile \u001b[39m\u001b[32m~\\OneDrive\\Documentos\\LoRaPriv\\src\\core\\__init__.py:21\u001b[39m\n\u001b[32m     13\u001b[39m \u001b[38;5;28;01mfrom\u001b[39;00m\u001b[38;5;250m \u001b[39m\u001b[34;01m.\u001b[39;00m\u001b[34;01mmarkers\u001b[39;00m\u001b[38;5;250m \u001b[39m\u001b[38;5;28;01mimport\u001b[39;00m LoRaMarkers\n\u001b[32m     15\u001b[39m \u001b[38;5;28;01mfrom\u001b[39;00m\u001b[38;5;250m \u001b[39m\u001b[34;01m.\u001b[39;00m\u001b[34;01mprimitives\u001b[39;00m\u001b[38;5;250m \u001b[39m\u001b[38;5;28;01mimport\u001b[39;00m (\n\u001b[32m     16\u001b[39m     generate_base_chirp,\n\u001b[32m     17\u001b[39m     instantaneous_phase,\n\u001b[32m     18\u001b[39m     to_complex,\n\u001b[32m     19\u001b[39m )\n\u001b[32m---> \u001b[39m\u001b[32m21\u001b[39m \u001b[38;5;28;01mfrom\u001b[39;00m\u001b[38;5;250m \u001b[39m\u001b[34;01m.\u001b[39;00m\u001b[34;01msdr_utils\u001b[39;00m\u001b[38;5;250m \u001b[39m\u001b[38;5;28;01mimport\u001b[39;00m (\n\u001b[32m     22\u001b[39m     delete_sdr,\n\u001b[32m     23\u001b[39m     soft_delete_sdr,\n\u001b[32m     24\u001b[39m     optimize_payload_symbols,\n\u001b[32m     25\u001b[39m )\n\u001b[32m     27\u001b[39m \u001b[38;5;28;01mfrom\u001b[39;00m\u001b[38;5;250m \u001b[39m\u001b[34;01m.\u001b[39;00m\u001b[34;01mmisc_utils\u001b[39;00m\u001b[38;5;250m \u001b[39m\u001b[38;5;28;01mimport\u001b[39;00m (\n\u001b[32m     28\u001b[39m     maybe_dump_iq_buffer,\n\u001b[32m     29\u001b[39m     load_iq_dump,\n\u001b[32m     30\u001b[39m     list_iq_dumps,\n\u001b[32m     31\u001b[39m     IQDump,\n\u001b[32m     32\u001b[39m )\n\u001b[32m     34\u001b[39m \u001b[38;5;28;01mfrom\u001b[39;00m\u001b[38;5;250m \u001b[39m\u001b[34;01m.\u001b[39;00m\u001b[34;01msnr_utils\u001b[39;00m\u001b[38;5;250m \u001b[39m\u001b[38;5;28;01mimport\u001b[39;00m estimate_snr_from_ls_fit\n",
      "\u001b[36mFile \u001b[39m\u001b[32m~\\OneDrive\\Documentos\\LoRaPriv\\src\\core\\sdr_utils.py:1\u001b[39m\n\u001b[32m----> \u001b[39m\u001b[32m1\u001b[39m \u001b[38;5;28;01mimport\u001b[39;00m\u001b[38;5;250m \u001b[39m\u001b[34;01madi\u001b[39;00m\n\u001b[32m      2\u001b[39m \u001b[38;5;28;01mimport\u001b[39;00m\u001b[38;5;250m \u001b[39m\u001b[34;01mnumpy\u001b[39;00m\u001b[38;5;250m \u001b[39m\u001b[38;5;28;01mas\u001b[39;00m\u001b[38;5;250m \u001b[39m\u001b[34;01mnp\u001b[39;00m\n\u001b[32m      3\u001b[39m \u001b[38;5;28;01mfrom\u001b[39;00m\u001b[38;5;250m \u001b[39m\u001b[34;01mdataclasses\u001b[39;00m\u001b[38;5;250m \u001b[39m\u001b[38;5;28;01mimport\u001b[39;00m dataclass\n",
      "\u001b[36mFile \u001b[39m\u001b[32mc:\\Users\\stefa\\OneDrive\\Documentos\\LoRaPriv\\.venv\\Lib\\site-packages\\adi\\__init__.py:5\u001b[39m\n\u001b[32m      1\u001b[39m \u001b[38;5;66;03m# Copyright (C) 2019-2025 Analog Devices, Inc.\u001b[39;00m\n\u001b[32m      2\u001b[39m \u001b[38;5;66;03m#\u001b[39;00m\n\u001b[32m      3\u001b[39m \u001b[38;5;66;03m# SPDX short identifier: ADIBSD\u001b[39;00m\n\u001b[32m----> \u001b[39m\u001b[32m5\u001b[39m \u001b[38;5;28;01mfrom\u001b[39;00m\u001b[38;5;250m \u001b[39m\u001b[34;01madi\u001b[39;00m\u001b[34;01m.\u001b[39;00m\u001b[34;01mad2s1210\u001b[39;00m\u001b[38;5;250m \u001b[39m\u001b[38;5;28;01mimport\u001b[39;00m ad2s1210\n\u001b[32m      6\u001b[39m \u001b[38;5;28;01mfrom\u001b[39;00m\u001b[38;5;250m \u001b[39m\u001b[34;01madi\u001b[39;00m\u001b[34;01m.\u001b[39;00m\u001b[34;01mad405x\u001b[39;00m\u001b[38;5;250m \u001b[39m\u001b[38;5;28;01mimport\u001b[39;00m ad405x\n\u001b[32m      7\u001b[39m \u001b[38;5;28;01mfrom\u001b[39;00m\u001b[38;5;250m \u001b[39m\u001b[34;01madi\u001b[39;00m\u001b[34;01m.\u001b[39;00m\u001b[34;01mad469x\u001b[39;00m\u001b[38;5;250m \u001b[39m\u001b[38;5;28;01mimport\u001b[39;00m ad469x\n",
      "\u001b[36mFile \u001b[39m\u001b[32mc:\\Users\\stefa\\OneDrive\\Documentos\\LoRaPriv\\.venv\\Lib\\site-packages\\adi\\ad2s1210.py:6\u001b[39m\n\u001b[32m      1\u001b[39m \u001b[38;5;66;03m# Copyright (C) 2023-2025 Analog Devices, Inc.\u001b[39;00m\n\u001b[32m      2\u001b[39m \u001b[38;5;66;03m#\u001b[39;00m\n\u001b[32m      3\u001b[39m \u001b[38;5;66;03m# SPDX short identifier: ADIBSD\u001b[39;00m\n\u001b[32m      5\u001b[39m \u001b[38;5;28;01mfrom\u001b[39;00m\u001b[38;5;250m \u001b[39m\u001b[34;01madi\u001b[39;00m\u001b[34;01m.\u001b[39;00m\u001b[34;01mattribute\u001b[39;00m\u001b[38;5;250m \u001b[39m\u001b[38;5;28;01mimport\u001b[39;00m attribute\n\u001b[32m----> \u001b[39m\u001b[32m6\u001b[39m \u001b[38;5;28;01mfrom\u001b[39;00m\u001b[38;5;250m \u001b[39m\u001b[34;01madi\u001b[39;00m\u001b[34;01m.\u001b[39;00m\u001b[34;01mcontext_manager\u001b[39;00m\u001b[38;5;250m \u001b[39m\u001b[38;5;28;01mimport\u001b[39;00m context_manager\n\u001b[32m      7\u001b[39m \u001b[38;5;28;01mfrom\u001b[39;00m\u001b[38;5;250m \u001b[39m\u001b[34;01madi\u001b[39;00m\u001b[34;01m.\u001b[39;00m\u001b[34;01mrx_tx\u001b[39;00m\u001b[38;5;250m \u001b[39m\u001b[38;5;28;01mimport\u001b[39;00m rx\n\u001b[32m      9\u001b[39m \u001b[38;5;66;03m# TODO: add support for events when libiio gains support for it\u001b[39;00m\n",
      "\u001b[36mFile \u001b[39m\u001b[32mc:\\Users\\stefa\\OneDrive\\Documentos\\LoRaPriv\\.venv\\Lib\\site-packages\\adi\\context_manager.py:5\u001b[39m\n\u001b[32m      1\u001b[39m \u001b[38;5;66;03m# Copyright (C) 2019-2025 Analog Devices, Inc.\u001b[39;00m\n\u001b[32m      2\u001b[39m \u001b[38;5;66;03m#\u001b[39;00m\n\u001b[32m      3\u001b[39m \u001b[38;5;66;03m# SPDX short identifier: ADIBSD\u001b[39;00m\n\u001b[32m----> \u001b[39m\u001b[32m5\u001b[39m \u001b[38;5;28;01mimport\u001b[39;00m\u001b[38;5;250m \u001b[39m\u001b[34;01miio\u001b[39;00m\n\u001b[32m      8\u001b[39m \u001b[38;5;28;01mclass\u001b[39;00m\u001b[38;5;250m \u001b[39m\u001b[34;01mcontext_manager\u001b[39;00m(\u001b[38;5;28mobject\u001b[39m):\n\u001b[32m      9\u001b[39m     _uri_auto = \u001b[33m\"\u001b[39m\u001b[33mip:analog\u001b[39m\u001b[33m\"\u001b[39m\n",
      "\u001b[36mFile \u001b[39m\u001b[32mc:\\Users\\stefa\\OneDrive\\Documentos\\LoRaPriv\\.venv\\Lib\\site-packages\\iio.py:227\u001b[39m\n\u001b[32m    223\u001b[39m \u001b[38;5;28;01melse\u001b[39;00m:\n\u001b[32m    224\u001b[39m     \u001b[38;5;66;03m# Non-windows, possibly Posix system\u001b[39;00m\n\u001b[32m    225\u001b[39m     _iiolib = \u001b[33m\"\u001b[39m\u001b[33miio\u001b[39m\u001b[33m\"\u001b[39m\n\u001b[32m--> \u001b[39m\u001b[32m227\u001b[39m _lib = \u001b[43m_cdll\u001b[49m\u001b[43m(\u001b[49m\u001b[43mfind_library\u001b[49m\u001b[43m(\u001b[49m\u001b[43m_iiolib\u001b[49m\u001b[43m)\u001b[49m\u001b[43m,\u001b[49m\u001b[43m \u001b[49m\u001b[43muse_errno\u001b[49m\u001b[43m=\u001b[49m\u001b[38;5;28;43;01mTrue\u001b[39;49;00m\u001b[43m,\u001b[49m\u001b[43m \u001b[49m\u001b[43muse_last_error\u001b[49m\u001b[43m=\u001b[49m\u001b[38;5;28;43;01mTrue\u001b[39;49;00m\u001b[43m)\u001b[49m\n\u001b[32m    229\u001b[39m _get_backends_count = _lib.iio_get_backends_count\n\u001b[32m    230\u001b[39m _get_backends_count.restype = c_uint\n",
      "\u001b[36mFile \u001b[39m\u001b[32mC:\\Program Files\\WindowsApps\\PythonSoftwareFoundation.Python.3.13_3.13.2032.0_x64__qbz5n2kfra8p0\\Lib\\ctypes\\__init__.py:380\u001b[39m, in \u001b[36mCDLL.__init__\u001b[39m\u001b[34m(self, name, mode, handle, use_errno, use_last_error, winmode)\u001b[39m\n\u001b[32m    378\u001b[39m \u001b[38;5;28;01mimport\u001b[39;00m\u001b[38;5;250m \u001b[39m\u001b[34;01mnt\u001b[39;00m\n\u001b[32m    379\u001b[39m mode = nt._LOAD_LIBRARY_SEARCH_DEFAULT_DIRS\n\u001b[32m--> \u001b[39m\u001b[32m380\u001b[39m \u001b[38;5;28;01mif\u001b[39;00m \u001b[33;43m'\u001b[39;49m\u001b[33;43m/\u001b[39;49m\u001b[33;43m'\u001b[39;49m\u001b[43m \u001b[49m\u001b[38;5;129;43;01min\u001b[39;49;00m\u001b[43m \u001b[49m\u001b[43mname\u001b[49m \u001b[38;5;129;01mor\u001b[39;00m \u001b[33m'\u001b[39m\u001b[38;5;130;01m\\\\\u001b[39;00m\u001b[33m'\u001b[39m \u001b[38;5;129;01min\u001b[39;00m name:\n\u001b[32m    381\u001b[39m     \u001b[38;5;28mself\u001b[39m._name = nt._getfullpathname(\u001b[38;5;28mself\u001b[39m._name)\n\u001b[32m    382\u001b[39m     mode |= nt._LOAD_LIBRARY_SEARCH_DLL_LOAD_DIR\n",
      "\u001b[31mTypeError\u001b[39m: argument of type 'NoneType' is not iterable"
     ]
    }
   ],
   "source": [
    "# -------------------------------------- External Libraries --------------------------------------\n",
    "import numpy as np\n",
    "import matplotlib.pyplot as plt\n",
    "from collections import defaultdict\n",
    "import importlib.util\n",
    "# ----------------------------------------- Local Imports ----------------------------------------\n",
    "from src.core                  import LoRaPhyParams, LoRaFrameParams\n",
    "from src.codec                 import LoRaCodec\n",
    "from src.mod                   import LoRaModulator, plot_frame\n",
    "from src.demod                 import LoRaDemodulator, plot_demodulation"
   ]
  },
  {
   "cell_type": "code",
   "execution_count": null,
   "id": "8edb12e3",
   "metadata": {},
   "outputs": [],
   "source": [
    "# ── Testing functions ----------------------------------------------------\n",
    "def test_config(sf, bw, spc):\n",
    "\n",
    "    \n",
    "    payload = list(range(1 << sf))  # All possible symbols from 0 to 2^sf - 1\n",
    "\n",
    "    phy = LoRaPhyParams(spreading_factor=sf, bandwidth=bw, samples_per_chip=spc)\n",
    "\n",
    "    frame = LoRaFrameParams(preamble_symbol_count=8, explicit_header=True, sync_word=0x00)\n",
    "\n",
    "\n",
    "    mod = LoRaModulator(phy, frame, backend=\"numpy\")\n",
    "    signal = mod.modulate(payload, include_frame=False)\n",
    "\n",
    "    has_cupy = importlib.util.find_spec(\"cupy\") is not None\n",
    "    backend = \"cupy\" if has_cupy else \"numpy\"\n",
    "\n",
    "    demod = LoRaDemodulator(phy, backend=backend, fold_mode=\"CPA\")\n",
    "    received = demod.demodulate(signal)\n",
    "\n",
    "    correct = sum(1 for a, b in zip(payload, received) if a == b)\n",
    "    likelihood = correct / len(payload) * 100\n",
    "\n",
    "    demod.backend.clear_memory()  # Clear GPU memory if used\n",
    "    \n",
    "    return payload, received.tolist(), likelihood\n",
    "\n",
    "\n",
    "def run_tests(configs, group_by=\"sf\", ncols=3):\n",
    "    \"\"\"\n",
    "    Runs demodulation tests across a range of LoRa configurations,\n",
    "    grouping and plotting results per group_by field.\n",
    "    \n",
    "    :param configs: Range of LoRa configurations to test, each defined as a tuple (sf, bw, spc).\n",
    "    :type configs: List of (sf, bw, spc) tuples\n",
    "    \n",
    "    :group_by: Field to group results by, one of 'sf', 'bw', 'spc'.\n",
    "    :type group_by: str, default 'sf'\n",
    "\n",
    "    :ncols: Number of subplot columns per group.\n",
    "    :type ncols: int, default 3\n",
    "\n",
    "    \"\"\"\n",
    "    groups = defaultdict(list)\n",
    "    for sf, bw, spc in configs:\n",
    "        key = {\"sf\": sf, \"bw\": bw, \"spc\": spc}.get(group_by, \"default\")\n",
    "        groups[key].append((sf, bw, spc))\n",
    "\n",
    "    for key, cfgs in groups.items():\n",
    "        n = len(cfgs)\n",
    "        nrows = int(np.ceil(n / ncols))\n",
    "        fig, axs = plt.subplots(nrows, ncols, figsize=(5 * ncols, 4 * nrows))\n",
    "        axs = np.atleast_1d(axs).flatten()\n",
    "\n",
    "        for ax, (sf, bw, spc) in zip(axs, cfgs):\n",
    "            payload, received, accuracy = test_config(sf, bw, spc)\n",
    "            payload = np.array(payload)\n",
    "            received = np.array(received)\n",
    "\n",
    "            # Ensure equal length\n",
    "            min_len = min(len(payload), len(received))\n",
    "            payload = payload[:min_len]\n",
    "            received = received[:min_len]\n",
    "\n",
    "            # Compare and plot\n",
    "            correct = (payload == received)\n",
    "            colors = np.where(correct, \"green\", \"red\")\n",
    "            ax.scatter(payload, received, c=colors, s=15)\n",
    "            \n",
    "            ax.set_title(f\"sf={sf}, spc={spc}, bw={bw/1e3:.0f}kHz\\nSymbol Match Rate= {accuracy:.1f}%\", fontsize=10)\n",
    "            ax.set_xlabel(\"Transmitted Symbol\")\n",
    "            ax.set_ylabel(\"Demodulated Symbol\")\n",
    "            ax.grid(True, linestyle='--', alpha=0.5)\n",
    "            ax.set_xticks([])\n",
    "\n",
    "        for j in range(n, len(axs)):\n",
    "            axs[j].axis(\"off\")\n",
    "\n",
    "        fig.suptitle(f\"Grouped by {group_by}: {key}\", fontsize=14, fontweight=\"bold\")\n",
    "        plt.tight_layout(rect=[0, 0, 1, 0.95])\n",
    "        plt.show()\n",
    "\n",
    "\n"
   ]
  },
  {
   "cell_type": "markdown",
   "id": "e161ad64",
   "metadata": {},
   "source": [
    "# Evaluación cualitativa de constelaciones de símbolos en LoRa\n",
    "\n",
    "El siguiente código realiza una prueba cualitativa sobre el proceso completo de modulación y demodulación en distintas configuraciones de LoRa (combinaciones de factor de dispersión, ancho de banda y sobremuestreo). El objetivo es verificar que **toda la constelación de símbolos pueda ser correctamente transmitida y recuperada** sin errores, bajo condiciones ideales de canal.\n",
    "\n",
    "Para cada configuración, se transmiten todos los símbolos posibles y se comparan con los demodulados. El resultado es un gráfico que muestra los símbolos enviados frente a los recibidos, permitiendo validar visualmente la corrección del sistema de extremo a extremo.\n"
   ]
  },
  {
   "cell_type": "code",
   "execution_count": null,
   "id": "d4d15dbb",
   "metadata": {},
   "outputs": [
    {
     "ename": "NameError",
     "evalue": "name 'run_tests' is not defined",
     "output_type": "error",
     "traceback": [
      "\u001b[31m---------------------------------------------------------------------------\u001b[39m",
      "\u001b[31mNameError\u001b[39m                                 Traceback (most recent call last)",
      "\u001b[36mCell\u001b[39m\u001b[36m \u001b[39m\u001b[32mIn[10]\u001b[39m\u001b[32m, line 11\u001b[39m\n\u001b[32m      1\u001b[39m configs = [\n\u001b[32m      2\u001b[39m     (\u001b[32m7\u001b[39m, \u001b[32m125e3\u001b[39m, \u001b[32m1\u001b[39m), (\u001b[32m7\u001b[39m, \u001b[32m250e3\u001b[39m, \u001b[32m2\u001b[39m), \n\u001b[32m      3\u001b[39m     (\u001b[32m8\u001b[39m, \u001b[32m125e3\u001b[39m, \u001b[32m1\u001b[39m), (\u001b[32m8\u001b[39m, \u001b[32m250e3\u001b[39m, \u001b[32m2\u001b[39m),\n\u001b[32m   (...)\u001b[39m\u001b[32m      7\u001b[39m     (\u001b[32m12\u001b[39m, \u001b[32m125e3\u001b[39m, \u001b[32m1\u001b[39m), (\u001b[32m12\u001b[39m, \u001b[32m250e3\u001b[39m, \u001b[32m2\u001b[39m),\n\u001b[32m      8\u001b[39m ]\n\u001b[32m     10\u001b[39m \u001b[38;5;28;01mtry\u001b[39;00m:\n\u001b[32m---> \u001b[39m\u001b[32m11\u001b[39m     \u001b[43mrun_tests\u001b[49m(configs, group_by=\u001b[33m\"\u001b[39m\u001b[33msf\u001b[39m\u001b[33m\"\u001b[39m, ncols=\u001b[32m3\u001b[39m)\n\u001b[32m     12\u001b[39m \u001b[38;5;28;01mexcept\u001b[39;00m \u001b[38;5;167;01mMemoryError\u001b[39;00m:\n\u001b[32m     13\u001b[39m     \u001b[38;5;28mprint\u001b[39m(\u001b[33m\"\u001b[39m\u001b[33mOutOfMemoryError: The test may require more memory than available.\u001b[39m\u001b[33m\"\u001b[39m)\n",
      "\u001b[31mNameError\u001b[39m: name 'run_tests' is not defined"
     ]
    }
   ],
   "source": [
    "configs = [\n",
    "    (7, 125e3, 1), (7, 250e3, 2), \n",
    "    (8, 125e3, 1), (8, 250e3, 2),\n",
    "    (9, 125e3, 1), (9, 250e3, 2), \n",
    "    (10, 125e3, 1), (10, 250e3, 2),\n",
    "    (11, 125e3, 1), (11, 250e3, 2),\n",
    "    (12, 125e3, 1), (12, 250e3, 2),\n",
    "]\n",
    "\n",
    "try:\n",
    "    run_tests(configs, group_by=\"sf\", ncols=3)\n",
    "except MemoryError:\n",
    "    print(\"OutOfMemoryError: The test may require more memory than available.\")"
   ]
  }
 ],
 "metadata": {
  "kernelspec": {
   "display_name": ".venv",
   "language": "python",
   "name": "python3"
  },
  "language_info": {
   "codemirror_mode": {
    "name": "ipython",
    "version": 3
   },
   "file_extension": ".py",
   "mimetype": "text/x-python",
   "name": "python",
   "nbconvert_exporter": "python",
   "pygments_lexer": "ipython3",
   "version": "3.13.5"
  }
 },
 "nbformat": 4,
 "nbformat_minor": 5
}
